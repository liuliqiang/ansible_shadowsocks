{
 "cells": [
  {
   "cell_type": "code",
   "execution_count": 10,
   "metadata": {},
   "outputs": [
    {
     "name": "stdout",
     "output_type": "stream",
     "text": [
      "Using /etc/ansible/ansible.cfg as config file\n",
      "\u001b[0;34mLoaded callback default of type stdout, v2.0\u001b[0m\n",
      "\u001b[0;34m1 plays in ss.yml\u001b[0m\n",
      "\n",
      "PLAY ***************************************************************************\n",
      "\n",
      "TASK [setup] *******************************************************************\n",
      "\u001b[0;34m<localhost> ESTABLISH SSH CONNECTION FOR USER: dc2-user\u001b[0m\n",
      "\u001b[0;34m<localhost> SSH: EXEC ssh -C -vvv -o ControlMaster=auto -o ControlPersist=60s -o KbdInteractiveAuthentication=no -o PreferredAuthentications=gssapi-with-mic,gssapi-keyex,hostbased,publickey -o PasswordAuthentication=no -o User=dc2-user -o ConnectTimeout=10 -o ControlPath=/root/.ansible/cp/ansible-ssh-%h-%p-%r -tt localhost '( umask 22 && mkdir -p \"$( echo $HOME/.ansible/tmp/ansible-tmp-1510850285.15-208287281006059 )\" && echo \"$( echo $HOME/.ansible/tmp/ansible-tmp-1510850285.15-208287281006059 )\" )'\u001b[0m\n",
      "\u001b[0;34m<localhost> PUT /tmp/tmpI_AloX TO /home/dc2-user/.ansible/tmp/ansible-tmp-1510850285.15-208287281006059/setup\u001b[0m\n",
      "\u001b[0;34m<localhost> SSH: EXEC sftp -b - -C -vvv -o ControlMaster=auto -o ControlPersist=60s -o KbdInteractiveAuthentication=no -o PreferredAuthentications=gssapi-with-mic,gssapi-keyex,hostbased,publickey -o PasswordAuthentication=no -o User=dc2-user -o ConnectTimeout=10 -o ControlPath=/root/.ansible/cp/ansible-ssh-%h-%p-%r '[localhost]'\u001b[0m\n",
      "\u001b[0;34m<localhost> ESTABLISH SSH CONNECTION FOR USER: dc2-user\u001b[0m\n",
      "\u001b[0;34m<localhost> SSH: EXEC ssh -C -vvv -o ControlMaster=auto -o ControlPersist=60s -o KbdInteractiveAuthentication=no -o PreferredAuthentications=gssapi-with-mic,gssapi-keyex,hostbased,publickey -o PasswordAuthentication=no -o User=dc2-user -o ConnectTimeout=10 -o ControlPath=/root/.ansible/cp/ansible-ssh-%h-%p-%r -tt localhost 'LANG=en_US.UTF-8 LC_ALL=en_US.UTF-8 LC_MESSAGES=en_US.UTF-8 /usr/bin/python /home/dc2-user/.ansible/tmp/ansible-tmp-1510850285.15-208287281006059/setup; rm -rf \"/home/dc2-user/.ansible/tmp/ansible-tmp-1510850285.15-208287281006059/\" > /dev/null 2>&1'\u001b[0m\n",
      "\u001b[0;32mok: [localhost]\u001b[0m\n",
      "\n",
      "TASK [common : Test Ansible Playbook] ******************************************\n",
      "\u001b[1;30mtask path: /root/ansible_playbooks/roles/common/tasks/main.yml:3\u001b[0m\n",
      "\u001b[0;34m<localhost> ESTABLISH SSH CONNECTION FOR USER: dc2-user\u001b[0m\n",
      "\u001b[0;34m<localhost> SSH: EXEC ssh -C -vvv -o ControlMaster=auto -o ControlPersist=60s -o KbdInteractiveAuthentication=no -o PreferredAuthentications=gssapi-with-mic,gssapi-keyex,hostbased,publickey -o PasswordAuthentication=no -o User=dc2-user -o ConnectTimeout=10 -o ControlPath=/root/.ansible/cp/ansible-ssh-%h-%p-%r -tt localhost '( umask 22 && mkdir -p \"$( echo $HOME/.ansible/tmp/ansible-tmp-1510850285.74-205977515661312 )\" && echo \"$( echo $HOME/.ansible/tmp/ansible-tmp-1510850285.74-205977515661312 )\" )'\u001b[0m\n",
      "\u001b[0;34m<localhost> PUT /tmp/tmpw0ReyG TO /home/dc2-user/.ansible/tmp/ansible-tmp-1510850285.74-205977515661312/command\u001b[0m\n",
      "\u001b[0;34m<localhost> SSH: EXEC sftp -b - -C -vvv -o ControlMaster=auto -o ControlPersist=60s -o KbdInteractiveAuthentication=no -o PreferredAuthentications=gssapi-with-mic,gssapi-keyex,hostbased,publickey -o PasswordAuthentication=no -o User=dc2-user -o ConnectTimeout=10 -o ControlPath=/root/.ansible/cp/ansible-ssh-%h-%p-%r '[localhost]'\u001b[0m\n",
      "\u001b[0;34m<localhost> ESTABLISH SSH CONNECTION FOR USER: dc2-user\u001b[0m\n",
      "\u001b[0;34m<localhost> SSH: EXEC ssh -C -vvv -o ControlMaster=auto -o ControlPersist=60s -o KbdInteractiveAuthentication=no -o PreferredAuthentications=gssapi-with-mic,gssapi-keyex,hostbased,publickey -o PasswordAuthentication=no -o User=dc2-user -o ConnectTimeout=10 -o ControlPath=/root/.ansible/cp/ansible-ssh-%h-%p-%r -tt localhost 'LANG=en_US.UTF-8 LC_ALL=en_US.UTF-8 LC_MESSAGES=en_US.UTF-8 /usr/bin/python /home/dc2-user/.ansible/tmp/ansible-tmp-1510850285.74-205977515661312/command; rm -rf \"/home/dc2-user/.ansible/tmp/ansible-tmp-1510850285.74-205977515661312/\" > /dev/null 2>&1'\u001b[0m\n",
      "\u001b[0;33mchanged: [localhost] => {\"changed\": true, \"cmd\": [\"whoami\"], \"delta\": \"0:00:00.002323\", \"end\": \"2017-11-17 00:38:05.851165\", \"invocation\": {\"module_args\": {\"_raw_params\": \"whoami\", \"_uses_shell\": false, \"chdir\": null, \"creates\": null, \"executable\": null, \"removes\": null, \"warn\": true}, \"module_name\": \"command\"}, \"rc\": 0, \"start\": \"2017-11-17 00:38:05.848842\", \"stderr\": \"\", \"stdout\": \"dc2-user\", \"stdout_lines\": [\"dc2-user\"], \"warnings\": []}\u001b[0m\n",
      "\n",
      "TASK [common : Get Public ip] **************************************************\n",
      "\u001b[1;30mtask path: /root/ansible_playbooks/roles/common/tasks/main.yml:6\u001b[0m\n",
      "\u001b[0;34m<localhost> ESTABLISH SSH CONNECTION FOR USER: dc2-user\u001b[0m\n",
      "\u001b[0;34m<localhost> SSH: EXEC ssh -C -vvv -o ControlMaster=auto -o ControlPersist=60s -o KbdInteractiveAuthentication=no -o PreferredAuthentications=gssapi-with-mic,gssapi-keyex,hostbased,publickey -o PasswordAuthentication=no -o User=dc2-user -o ConnectTimeout=10 -o ControlPath=/root/.ansible/cp/ansible-ssh-%h-%p-%r -tt localhost '( umask 22 && mkdir -p \"$( echo $HOME/.ansible/tmp/ansible-tmp-1510850285.89-182718089507252 )\" && echo \"$( echo $HOME/.ansible/tmp/ansible-tmp-1510850285.89-182718089507252 )\" )'\u001b[0m\n",
      "\u001b[0;34m<localhost> PUT /tmp/tmppLxFyF TO /home/dc2-user/.ansible/tmp/ansible-tmp-1510850285.89-182718089507252/command\u001b[0m\n",
      "\u001b[0;34m<localhost> SSH: EXEC sftp -b - -C -vvv -o ControlMaster=auto -o ControlPersist=60s -o KbdInteractiveAuthentication=no -o PreferredAuthentications=gssapi-with-mic,gssapi-keyex,hostbased,publickey -o PasswordAuthentication=no -o User=dc2-user -o ConnectTimeout=10 -o ControlPath=/root/.ansible/cp/ansible-ssh-%h-%p-%r '[localhost]'\u001b[0m\n",
      "\u001b[0;34m<localhost> ESTABLISH SSH CONNECTION FOR USER: dc2-user\u001b[0m\n",
      "\u001b[0;34m<localhost> SSH: EXEC ssh -C -vvv -o ControlMaster=auto -o ControlPersist=60s -o KbdInteractiveAuthentication=no -o PreferredAuthentications=gssapi-with-mic,gssapi-keyex,hostbased,publickey -o PasswordAuthentication=no -o User=dc2-user -o ConnectTimeout=10 -o ControlPath=/root/.ansible/cp/ansible-ssh-%h-%p-%r -tt localhost 'LANG=en_US.UTF-8 LC_ALL=en_US.UTF-8 LC_MESSAGES=en_US.UTF-8 /usr/bin/python /home/dc2-user/.ansible/tmp/ansible-tmp-1510850285.89-182718089507252/command; rm -rf \"/home/dc2-user/.ansible/tmp/ansible-tmp-1510850285.89-182718089507252/\" > /dev/null 2>&1'\u001b[0m\n",
      "\u001b[0;33mchanged: [localhost] => {\"changed\": true, \"cmd\": [\"curl\", \"-s\", \"-4\", \"ipinfo.io/ip\"], \"delta\": \"0:00:00.206985\", \"end\": \"2017-11-17 00:38:06.206875\", \"invocation\": {\"module_args\": {\"_raw_params\": \"curl -s -4 ipinfo.io/ip\", \"_uses_shell\": false, \"chdir\": null, \"creates\": null, \"executable\": null, \"removes\": null, \"warn\": true}, \"module_name\": \"command\"}, \"rc\": 0, \"start\": \"2017-11-17 00:38:05.999890\", \"stderr\": \"\", \"stdout\": \"116.85.31.117\", \"stdout_lines\": [\"116.85.31.117\"], \"warnings\": [\"Consider using get_url module rather than running curl\"]}\u001b[0m\n",
      "\u001b[1;35m [WARNING]: Consider using get_url module rather than running curl\n",
      "\u001b[0m\n",
      "\n",
      "TASK [common : Write ip to file] ***********************************************\n",
      "\u001b[1;30mtask path: /root/ansible_playbooks/roles/common/tasks/main.yml:10\u001b[0m\n",
      "\u001b[0;34m<localhost> ESTABLISH SSH CONNECTION FOR USER: dc2-user\u001b[0m\n",
      "\u001b[0;34m<localhost> SSH: EXEC ssh -C -vvv -o ControlMaster=auto -o ControlPersist=60s -o KbdInteractiveAuthentication=no -o PreferredAuthentications=gssapi-with-mic,gssapi-keyex,hostbased,publickey -o PasswordAuthentication=no -o User=dc2-user -o ConnectTimeout=10 -o ControlPath=/root/.ansible/cp/ansible-ssh-%h-%p-%r -tt localhost '( umask 22 && mkdir -p \"$( echo $HOME/.ansible/tmp/ansible-tmp-1510850286.29-42828106171211 )\" && echo \"$( echo $HOME/.ansible/tmp/ansible-tmp-1510850286.29-42828106171211 )\" )'\u001b[0m\n",
      "\u001b[0;34m<localhost> PUT /tmp/tmpFmFXes TO /home/dc2-user/.ansible/tmp/ansible-tmp-1510850286.29-42828106171211/command\u001b[0m\n",
      "\u001b[0;34m<localhost> SSH: EXEC sftp -b - -C -vvv -o ControlMaster=auto -o ControlPersist=60s -o KbdInteractiveAuthentication=no -o PreferredAuthentications=gssapi-with-mic,gssapi-keyex,hostbased,publickey -o PasswordAuthentication=no -o User=dc2-user -o ConnectTimeout=10 -o ControlPath=/root/.ansible/cp/ansible-ssh-%h-%p-%r '[localhost]'\u001b[0m\n",
      "\u001b[0;34m<localhost> ESTABLISH SSH CONNECTION FOR USER: dc2-user\u001b[0m\n",
      "\u001b[0;34m<localhost> SSH: EXEC ssh -C -vvv -o ControlMaster=auto -o ControlPersist=60s -o KbdInteractiveAuthentication=no -o PreferredAuthentications=gssapi-with-mic,gssapi-keyex,hostbased,publickey -o PasswordAuthentication=no -o User=dc2-user -o ConnectTimeout=10 -o ControlPath=/root/.ansible/cp/ansible-ssh-%h-%p-%r -tt localhost 'LANG=en_US.UTF-8 LC_ALL=en_US.UTF-8 LC_MESSAGES=en_US.UTF-8 /usr/bin/python /home/dc2-user/.ansible/tmp/ansible-tmp-1510850286.29-42828106171211/command; rm -rf \"/home/dc2-user/.ansible/tmp/ansible-tmp-1510850286.29-42828106171211/\" > /dev/null 2>&1'\u001b[0m\n"
     ]
    },
    {
     "name": "stdout",
     "output_type": "stream",
     "text": [
      "\u001b[0;33mchanged: [localhost] => {\"changed\": true, \"cmd\": \"echo 116.85.31.117 >> /tmp/ip\", \"delta\": \"0:00:00.002199\", \"end\": \"2017-11-17 00:38:06.400404\", \"invocation\": {\"module_args\": {\"_raw_params\": \"echo 116.85.31.117 >> /tmp/ip\", \"_uses_shell\": true, \"chdir\": null, \"creates\": null, \"executable\": null, \"removes\": null, \"warn\": true}, \"module_name\": \"command\"}, \"rc\": 0, \"start\": \"2017-11-17 00:38:06.398205\", \"stderr\": \"\", \"stdout\": \"\", \"stdout_lines\": [], \"warnings\": []}\u001b[0m\r\n",
      "\r\n",
      "PLAY RECAP *********************************************************************\r\n",
      "\u001b[0;33mlocalhost\u001b[0m                  : \u001b[0;32mok\u001b[0m\u001b[0;32m=\u001b[0m\u001b[0;32m4\u001b[0m    \u001b[0;33mchanged\u001b[0m\u001b[0;33m=\u001b[0m\u001b[0;33m3\u001b[0m    unreachable=0    failed=0   \r\n",
      "\r\n"
     ]
    }
   ],
   "source": [
    "!ansible-playbook ss.yml -i inventory.ini -vvvv"
   ]
  },
  {
   "cell_type": "code",
   "execution_count": null,
   "metadata": {},
   "outputs": [],
   "source": []
  },
  {
   "cell_type": "code",
   "execution_count": 9,
   "metadata": {},
   "outputs": [
    {
     "name": "stdout",
     "output_type": "stream",
     "text": [
      "hsperfdata_dc2-user\r\n",
      "hsperfdata_root\r\n",
      "ip\r\n",
      "pip-4LAWEI-unpack\r\n",
      "pip-eFlMnV-build\r\n",
      "pip-_K9__Z-unpack\r\n",
      "pip-vQCGwV-build\r\n",
      "systemd-private-390e7aa1de8a4ad8aeaf0212721a3984-systemd-timesyncd.service-TDSZn7\r\n",
      "tmphfWdpr_kernels\r\n",
      "tmux-0\r\n",
      "tmux-1001\r\n"
     ]
    }
   ],
   "source": [
    "!ls /tmp"
   ]
  },
  {
   "cell_type": "code",
   "execution_count": 11,
   "metadata": {},
   "outputs": [
    {
     "name": "stdout",
     "output_type": "stream",
     "text": [
      "116.85.31.117\r\n",
      "116.85.31.117\r\n"
     ]
    }
   ],
   "source": [
    "cat /tmp/ip"
   ]
  },
  {
   "cell_type": "code",
   "execution_count": 13,
   "metadata": {},
   "outputs": [
    {
     "name": "stdout",
     "output_type": "stream",
     "text": [
      "Linux-4.4.0-83-generic-x86_64-with-Ubuntu-16.04-xenial\n"
     ]
    }
   ],
   "source": [
    "import platform\n",
    "\n",
    "print platform.platform()"
   ]
  },
  {
   "cell_type": "code",
   "execution_count": null,
   "metadata": {},
   "outputs": [],
   "source": []
  }
 ],
 "metadata": {
  "kernelspec": {
   "display_name": "Python 2",
   "language": "python",
   "name": "python2"
  },
  "language_info": {
   "codemirror_mode": {
    "name": "ipython",
    "version": 2
   },
   "file_extension": ".py",
   "mimetype": "text/x-python",
   "name": "python",
   "nbconvert_exporter": "python",
   "pygments_lexer": "ipython2",
   "version": "2.7.12"
  }
 },
 "nbformat": 4,
 "nbformat_minor": 2
}
